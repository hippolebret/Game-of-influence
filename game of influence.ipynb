{
 "cells": [
  {
   "cell_type": "code",
   "execution_count": 245,
   "metadata": {},
   "outputs": [
    {
     "name": "stdout",
     "output_type": "stream",
     "text": [
      "Dataset Info:\n",
      "<class 'pandas.core.frame.DataFrame'>\n",
      "RangeIndex: 5460 entries, 0 to 5459\n",
      "Data columns (total 6 columns):\n",
      " #   Column               Non-Null Count  Dtype  \n",
      "---  ------               --------------  -----  \n",
      " 0   Question             5460 non-null   object \n",
      " 1   Segment Type         5460 non-null   object \n",
      " 2   Segment Description  5460 non-null   object \n",
      " 3   Answer               5460 non-null   object \n",
      " 4   Count                5460 non-null   int64  \n",
      " 5   Percentage           5460 non-null   float64\n",
      "dtypes: float64(1), int64(1), object(4)\n",
      "memory usage: 256.1+ KB\n",
      "None\n",
      "\n",
      "First Few Rows:\n",
      "                                            Question Segment Type  \\\n",
      "0  What do you think when an influencer is obviou...       Mobile   \n",
      "1  What do you think when an influencer is obviou...       Mobile   \n",
      "2  What do you think when an influencer is obviou...       Mobile   \n",
      "3  What do you think when an influencer is obviou...       Mobile   \n",
      "4  What do you think when an influencer is obviou...          Web   \n",
      "\n",
      "  Segment Description                 Answer  Count  Percentage  \n",
      "0      Global results  Is this product cool?    268       0.226  \n",
      "1      Global results           This is lame    532       0.449  \n",
      "2      Global results       Get that money!     293       0.247  \n",
      "3      Global results       Other (comment)      91       0.077  \n",
      "4                 Web  Is this product cool?      0       0.000  \n",
      "\n",
      "Missing Values:\n",
      "Question               0\n",
      "Segment Type           0\n",
      "Segment Description    0\n",
      "Answer                 0\n",
      "Count                  0\n",
      "Percentage             0\n",
      "dtype: int64\n",
      "\n",
      "Summary Statistics:\n",
      "                                                 Question Segment Type  \\\n",
      "count                                                5460         5460   \n",
      "unique                                                  6            5   \n",
      "top     What social platform has influenced your onlin...   University   \n",
      "freq                                                 1255         2724   \n",
      "mean                                                  NaN          NaN   \n",
      "std                                                   NaN          NaN   \n",
      "min                                                   NaN          NaN   \n",
      "25%                                                   NaN          NaN   \n",
      "50%                                                   NaN          NaN   \n",
      "75%                                                   NaN          NaN   \n",
      "max                                                   NaN          NaN   \n",
      "\n",
      "             Segment Description                             Answer  \\\n",
      "count                       5460                               5460   \n",
      "unique                       305                                 24   \n",
      "top     What's your major? Other  People who do the things you like   \n",
      "freq                          48                                272   \n",
      "mean                         NaN                                NaN   \n",
      "std                          NaN                                NaN   \n",
      "min                          NaN                                NaN   \n",
      "25%                          NaN                                NaN   \n",
      "50%                          NaN                                NaN   \n",
      "75%                          NaN                                NaN   \n",
      "max                          NaN                                NaN   \n",
      "\n",
      "              Count   Percentage  \n",
      "count   5460.000000  5460.000000  \n",
      "unique          NaN          NaN  \n",
      "top             NaN          NaN  \n",
      "freq            NaN          NaN  \n",
      "mean      36.229121     0.249451  \n",
      "std       91.652298     0.283424  \n",
      "min        0.000000     0.000000  \n",
      "25%        0.000000     0.000000  \n",
      "50%        4.000000     0.158000  \n",
      "75%       27.000000     0.400000  \n",
      "max     1479.000000     1.000000  \n",
      "\n",
      "Unique Values in Each Column:\n",
      "Question: 6 unique values\n",
      "Segment Type: 5 unique values\n",
      "Segment Description: 305 unique values\n",
      "Answer: 24 unique values\n",
      "Count: 377 unique values\n",
      "Percentage: 646 unique values\n",
      "\n",
      "Value Counts:\n",
      "Segment Type:\n",
      "University    2724\n",
      "Custom        2640\n",
      "Gender          48\n",
      "Web             24\n",
      "Mobile          24\n",
      "Name: Segment Type, dtype: int64\n",
      "\n",
      "Segment Description:\n",
      "What's your major? Other                       48\n",
      "Sexual orientation? Bi                         24\n",
      "closely identify as? Black 👍🏿                  24\n",
      "your zodiac sign? Scorpio (Oct 23 - Nov 21)    24\n",
      "your zodiac sign? Aries (Mar 21 - Apr 19)      24\n",
      "                                               ..\n",
      "Fordham University                              4\n",
      "Elon University                                 4\n",
      "University of California Riverside              3\n",
      "Bloomsburg University of Pennsylvania           3\n",
      "Oneonta State University                        3\n",
      "Name: Segment Description, Length: 305, dtype: int64\n",
      "\n",
      "Answer:\n",
      "People who do the things you like                                           272\n",
      "Celebrities                                                                 272\n",
      "Friends                                                                     272\n",
      "Funny meme posters                                                          272\n",
      "They have a great body and frequently take pics of it                       263\n",
      "They're famous so people like to follow them                                263\n",
      "They're a leading voice in culture                                          263\n",
      "They aren't on social media & focus on actual things to change the world    263\n",
      "None                                                                        251\n",
      "Twitter                                                                     251\n",
      "Instagram                                                                   251\n",
      "Facebook                                                                    251\n",
      "Snapchat                                                                    251\n",
      "No, it's whatever                                                           247\n",
      "Yes, very much so                                                           247\n",
      "Somewhat                                                                    247\n",
      "All of the above                                                            179\n",
      "Someone with a lot of social media followers                                179\n",
      "Popular friends in your network                                             179\n",
      "A famous person                                                             179\n",
      "Other (comment)                                                             152\n",
      "This is lame                                                                152\n",
      "Is this product cool?                                                       152\n",
      "Get that money!                                                             152\n",
      "Name: Answer, dtype: int64\n"
     ]
    }
   ],
   "source": [
    "\n",
    "#Quick introduction and first handling of the dataset :\n",
    "import pandas as pd\n",
    "\n",
    "# Load the dataset\n",
    "df = pd.read_csv('https://query.data.world/s/kqie3njk5bv6yvtbgd4ss2dkbc6vml?dws=00000')\n",
    "\n",
    "# Display basic information about the dataset\n",
    "print(\"Dataset Info:\")\n",
    "print(df.info())\n",
    "\n",
    "# Display the first few rows of the dataset\n",
    "print(\"\\nFirst Few Rows:\")\n",
    "print(df.head())\n",
    "\n",
    "# Check for missing values\n",
    "print(\"\\nMissing Values:\")\n",
    "print(df.isnull().sum())\n",
    "\n",
    "# Summary statistics\n",
    "print(\"\\nSummary Statistics:\")\n",
    "print(df.describe(include='all'))\n",
    "\n",
    "# Unique values in each column\n",
    "print(\"\\nUnique Values in Each Column:\")\n",
    "for column in df.columns:\n",
    "    print(f\"{column}: {df[column].nunique()} unique values\")\n",
    "\n",
    "# Value counts for specific columns\n",
    "print(\"\\nValue Counts:\")\n",
    "print(\"Segment Type:\")\n",
    "print(df['Segment Type'].value_counts())\n",
    "print(\"\\nSegment Description:\")\n",
    "print(df['Segment Description'].value_counts())\n",
    "print(\"\\nAnswer:\")\n",
    "print(df['Answer'].value_counts())\n",
    "\n",
    "\n"
   ]
  },
  {
   "cell_type": "code",
   "execution_count": 246,
   "metadata": {},
   "outputs": [
    {
     "data": {
      "image/png": "[encoded data removed]",
      "text/plain": [
       "<Figure size 864x432 with 1 Axes>"
      ]
     },
     "metadata": {},
     "output_type": "display_data"
    }
   ],
   "source": [
    "import pandas as pd\n",
    "import matplotlib.pyplot as plt\n",
    "import seaborn as sns\n",
    "\n",
    "# Load the dataset\n",
    "df = pd.read_csv('https://query.data.world/s/kqie3njk5bv6yvtbgd4ss2dkbc6vml?dws=00000')\n",
    "\n",
    "# Choose the first question\n",
    "question = df['Question'][0]\n",
    "\n",
    "# Filter data for the selected question\n",
    "selected_question_data = df[df['Question'] == question]\n",
    "\n",
    "# Plot the bar chart for 'Male voters' and 'Female voters'\n",
    "male_female_data = selected_question_data[selected_question_data['Segment Description'].isin(['Male voters', 'Female voters'])]\n",
    "plt.figure(figsize=(12, 6))\n",
    "sns.barplot(data=male_female_data, x='Segment Description', y='Count', hue='Answer')\n",
    "plt.title(\"Number of People for each answer at the question: 'What do you think when an influencer is obviously selling a product?' by Gender\")\n",
    "plt.xlabel(\"Gender\")\n",
    "plt.ylabel(\"Count\")\n",
    "plt.show()\n",
    "\n"
   ]
  },
  {
   "cell_type": "code",
   "execution_count": 247,
   "metadata": {},
   "outputs": [
    {
     "name": "stdout",
     "output_type": "stream",
     "text": [
      "Unique Questions:\n",
      "['What do you think when an influencer is obviously selling a product?'\n",
      " 'What social platform has influenced your online shopping most?'\n",
      " 'What is the most important trait when defining an influencer?'\n",
      " 'Who are your favorite people to follow online?'\n",
      " 'Does it annoy you when popular social media accounts endorse products or services?'\n",
      " 'What do you consider an influencer?']\n"
     ]
    }
   ],
   "source": [
    "import pandas as pd\n",
    "\n",
    "# Load the dataset\n",
    "df = pd.read_csv('https://query.data.world/s/kqie3njk5bv6yvtbgd4ss2dkbc6vml?dws=00000')\n",
    "\n",
    "# Display unique values in the \"Question\" column\n",
    "unique_questions = df['Question'].unique()\n",
    "print(\"Unique Questions:\")\n",
    "print(unique_questions)\n"
   ]
  },
  {
   "cell_type": "code",
   "execution_count": 248,
   "metadata": {},
   "outputs": [
    {
     "name": "stdout",
     "output_type": "stream",
     "text": [
      "Unique Segment Types: ['Mobile' 'Web' 'Gender' 'University' 'Custom']\n"
     ]
    }
   ],
   "source": [
    "# Check unique values in the 'Segment Type' column\n",
    "unique_segment_types = df['Segment Type'].unique()\n",
    "print(\"Unique Segment Types:\", unique_segment_types)\n"
   ]
  },
  {
   "cell_type": "code",
   "execution_count": 249,
   "metadata": {},
   "outputs": [
    {
     "name": "stdout",
     "output_type": "stream",
     "text": [
      "Unique Segment description: ['Global results' 'Web' 'Female voters' 'Male voters'\n",
      " 'Vanderbilt University' 'University of California, Berkeley'\n",
      " 'Texas Christian University' 'University of Missouri' 'Emory University'\n",
      " 'University of Washington' 'Purdue University' 'Dartmouth College'\n",
      " 'Johns Hopkins University' 'University of Redlands'\n",
      " 'University of Richmond' 'University of North Carolina'\n",
      " 'Stanford University' 'University of Arkansas' 'Indiana University'\n",
      " 'Whitman College' 'University of Wisconsin-Madison'\n",
      " 'Santa Clara University' 'University of Arizona' 'University of Michigan'\n",
      " 'University of Illinois' 'Missouri State University'\n",
      " 'University of Texas' 'Randolph-Macon College' 'Cornell University'\n",
      " 'San Diego State University' 'Vassar College'\n",
      " 'Loyola Marymount University' 'North Dakota State University'\n",
      " 'Claremont McKenna College' 'Duke University' 'Chapman University'\n",
      " 'College of William and Mary' 'University of Virginia' 'SF'\n",
      " 'Northwestern University' 'University of New Hampshire'\n",
      " 'Butler University' 'your zodiac sign? Capricorn (Dec 22 - Jan 19)'\n",
      " 'your zodiac sign? Sagittarius (Nov 22 - Dec 21)'\n",
      " 'your zodiac sign? Scorpio (Oct 23 - Nov 21)'\n",
      " 'your zodiac sign? Libra (Sep 23 - Oct 22)'\n",
      " 'your zodiac sign? Leo (Jul 23 - Aug 22)'\n",
      " 'your zodiac sign? Cancer (Jun 21 - Jul 22)'\n",
      " 'your zodiac sign? Gemini (May 21 - Jun 20)'\n",
      " 'your zodiac sign? Aquarius (Jan 20-Feb 18)' \"What's your major? Other\"\n",
      " \"What's your major? Business/Econ/Finance\" \"What's your major? Pre-med\"\n",
      " \"What's your major? ME/EE/other engineer\" \"What's your GPA? 3.0 to 4.0\"\n",
      " \"What's your GPA? 2.0 to 3.0\" 'have a job? Yes, full-time'\n",
      " 'Mac or PC? Other 🐧' 'Mac or PC? Mac 🖥' \"What's your GPA? 1.0 to 2.0\"\n",
      " \"What's your GPA? Below 1.0 😁\"\n",
      " 'grow up speaking? Some other language (comment)'\n",
      " 'grow up speaking? Both' 'grow up speaking? Spanish'\n",
      " 'grow up speaking? English' 'have a job? Nope, and not looking for one'\n",
      " 'games a lot? No' 'games a lot? Yes, mobile mostly'\n",
      " 'games a lot? Yes, PC mostly' 'games a lot? Yes, console mostly'\n",
      " 'Graduation Year 2017' 'Graduation Year 2018' 'Graduation Year 2019'\n",
      " 'Graduation Year 2020' 'your parents make? Upper class (> $240K)'\n",
      " 'your parents make? Upper-middle class (~$160K'\n",
      " 'your parents make? Middle / lower-middle class (~$90K)'\n",
      " 'your parents make? Poor (< ~$50K) 😁' \"What's your major? Languages\"\n",
      " \"What's your major? Visual/performing arts\" \"What's your major? History\"\n",
      " \"What's your major? Comm / marketing\"\n",
      " \"What's your major? Political science / philosophy\"\n",
      " 'are you pursuing? Undecided' 'are you pursuing? Humanities'\n",
      " 'are you pursuing? Technical / engineering'\n",
      " 'clubs / organizations? More than one major org'\n",
      " 'clubs / organizations? A minor one' 'clubs / organizations? No'\n",
      " 'do per month? More than 10 hours 😇' 'do per month? 1 to 10 hours'\n",
      " 'do per month? About 1 hour' 'do per month? Less than an hour'\n",
      " 'do per month? Realistically, none' 'closely identify as? White 👍🏻'\n",
      " 'closely identify as? Black 👍🏿' \"What's your leaning? In-between\"\n",
      " \"What's your leaning? Liberal 🔷\" \"What's your leaning? Conservative 🐘\"\n",
      " \"I'm in? Other\" 'closely identify as? Other'\n",
      " \"What's your major? Comp sci\"\n",
      " 'your zodiac sign? Taurus (Apr 20 - May 20)'\n",
      " 'your zodiac sign? Aries (Mar 21 - Apr 19)'\n",
      " 'your zodiac sign? Pisces (Feb 19 - Mar 20)' \"I'm in? Grad School\"\n",
      " \"I'm in? Post-grad\" \"I'm in? College\" \"I'm in? High School\"\n",
      " 'clubs / organizations? A major one' 'you a feminist? No'\n",
      " 'you a feminist? Yes' 'Are you single? No' 'Are you single? Yes'\n",
      " 'or private school? No school' 'or private school? Private'\n",
      " 'or private school? Public' 'student loan debt? No'\n",
      " 'student loan debt? Yes' 'you a virgin? No'\n",
      " \"have a job? No, but I'm searching for one\" 'have a job? Yes, part-time'\n",
      " 'Mac or PC? PC 💻' \"What's your GPA? Above 4.0 😏\"\n",
      " 'your zodiac sign? Virgo (Aug 23 - Sep 22)'\n",
      " 'closely identify as? Native American 👍🏾' 'closely identify as? Asian 👍🏼'\n",
      " 'closely identify as? Hispanic 👍🏽' 'Are you? None/Other'\n",
      " 'Are you? Muslim' 'Are you? Jewish' 'Are you? Christian'\n",
      " 'guys, 5\\'5\" girls) Tall' 'guys, 5\\'5\" girls) Medium (± 3 inches)'\n",
      " 'guys, 5\\'5\" girls) Short' 'you a virgin? Yes'\n",
      " 'you voting for? Not voting ' 'you voting for? Writing in Bernie'\n",
      " 'you voting for? Other' 'you voting for? Gary Johnson'\n",
      " 'you voting for? Jill Stein' 'you voting for? Donald Trump'\n",
      " 'you voting for? Hillary Clinton' 'Sexual orientation? Confused'\n",
      " 'Sexual orientation? Bi' 'Sexual orientation? Gay'\n",
      " 'Sexual orientation? Straight' 'in Greek life? No but I wanna be...'\n",
      " 'in Greek life? No!' 'in Greek life? Yes but regretting it'\n",
      " 'in Greek life? Yes!' 'Indiana University-Purdue University Indianapolis'\n",
      " 'University of Dayton' 'UMass Amherst' 'Brock University'\n",
      " 'Pinnacle High School' 'Baltimore City College' 'New York University'\n",
      " 'Case Western Reserve University' 'Rutgers University'\n",
      " 'University of Oregon' 'University of Toronto'\n",
      " 'State University of New York Geneso' 'Carthage College'\n",
      " 'University of South Carolina' 'Wesleyan University'\n",
      " 'Memorial University of Newfoundland' 'University of Kansas'\n",
      " 'Richland High School' 'Wake Forest University' 'Iowa State University'\n",
      " 'Florida Gulf Coast University' 'University of Central Missouri'\n",
      " 'California State University Long Beach' 'Chaparral High School'\n",
      " 'Colorado Academy' 'United States Naval Academy'\n",
      " 'University of Wisconsin-Whitewater' 'Lock Haven University'\n",
      " 'Kalamazoo College' 'Medford High School'\n",
      " 'University of British Columbia' 'Colby College' 'Bates College'\n",
      " 'Westport, CT' 'Thompson Rivers University '\n",
      " 'University of Central Florida' 'University of Montana '\n",
      " 'University of Nebraska' 'Whatsgoodly University' 'Tufts University'\n",
      " 'Texas Tech University' 'Kansas State University'\n",
      " 'University of Notre Dame' 'University of Georgia' 'Ohio University'\n",
      " 'Washington State University' 'Binghamtom University'\n",
      " 'George Washington University' 'University of Alabama'\n",
      " 'University of Florida' 'The College of New Jersey'\n",
      " 'Florida State University' 'Appalachian State University'\n",
      " 'Arbroath Academy' 'Arkansas Tech University '\n",
      " 'University of Rhode Island' 'Virginia Tech' 'Syracuse University'\n",
      " 'Cypress Creek High School' 'Union High School' 'Ohio State University'\n",
      " 'Gulf Breeze High School' 'Cal Poly San Luis Obispo'\n",
      " 'Oklahoma State University ' 'Hampden-Sydney College '\n",
      " 'Coventry University' 'Rochester Institute of Technology'\n",
      " 'Southern Methodist University' 'Colgate University'\n",
      " 'Saginaw Valley State University' 'Boise State University'\n",
      " 'University of Delaware' 'UMass Dartmouth' 'High Point University'\n",
      " 'University of Minnesota' 'Truman State University'\n",
      " 'University of Central Oklahoma' 'Illinois State' 'University of Guelph'\n",
      " 'Queens University' 'University of Colorado Boulder'\n",
      " 'Villanova University' 'Centre College' 'Texas A&M University'\n",
      " 'Miami University (Ohio)' 'University of North Carolina at Greensboro'\n",
      " 'Michigan State University' 'Kutztown University'\n",
      " 'University of Mississippi' 'University of Mount Union'\n",
      " 'Shippensburg University' 'University of Pennsylvania'\n",
      " 'Manhattan College' 'University of Central Arkansas'\n",
      " 'Northeastern University' 'West Virginia University '\n",
      " 'Northern Arizona University' 'University of California, Santa Barbara'\n",
      " 'University of Memphis' 'Auburn University' 'Wisconsin HS'\n",
      " 'Penn State University' 'Central Washington University'\n",
      " 'Conant High School' 'University of Nevada Reno' 'Depauw University'\n",
      " 'University of Warwick' 'Colorado State University'\n",
      " 'Karlsruhe Institute of Technology' 'Towson University'\n",
      " 'Seton Hall University' 'James Madison University'\n",
      " 'University of Buffalo' 'Boston College' 'Eldorado High School'\n",
      " 'Marquette High School' 'Roger Williams University'\n",
      " 'Auburn University at Montgomery' 'University of Oklahoma'\n",
      " 'University of Tennessee at Chattanooga' 'Sacramento State University'\n",
      " 'Texas State University' 'Wilfred Laurier University'\n",
      " 'University of Maryland' 'The Juilliard School' 'University of Houston '\n",
      " 'Fitchburg State University' 'University of Leicester'\n",
      " 'Otterbein University' 'Hofstra University' 'University of Tennessee'\n",
      " 'United States Air Force Academy'\n",
      " 'University of North Carolina, Wilmington' 'Cameron University'\n",
      " \"St. John's High School\" 'Mississippi State University'\n",
      " 'Northwestern State University' 'St. Bonaventure University'\n",
      " 'United States Military Academy' 'University of Miami' 'UMass Boston'\n",
      " 'Adelphi University ' 'Indiana State University'\n",
      " 'George Mason University' 'Fordham University'\n",
      " 'University of Alabama at Birmingham ' 'Elon University'\n",
      " 'University of California Riverside' 'University of Connecticut'\n",
      " 'Bloomsburg University of Pennsylvania' 'Oneonta State University'\n",
      " 'Arroyo High School' 'Brawley Union High School' 'Ellsworth High School']\n"
     ]
    }
   ],
   "source": [
    "# Check unique values in the 'Segment description' column\n",
    "unique_segment_description = df['Segment Description'].unique()\n",
    "print(\"Unique Segment description:\", unique_segment_description)"
   ]
  },
  {
   "cell_type": "code",
   "execution_count": 250,
   "metadata": {},
   "outputs": [
    {
     "name": "stderr",
     "output_type": "stream",
     "text": [
      "[nltk_data] Downloading package stopwords to\n",
      "[nltk_data]     C:\\Users\\USER\\AppData\\Roaming\\nltk_data...\n",
      "[nltk_data]   Package stopwords is already up-to-date!\n"
     ]
    },
    {
     "name": "stdout",
     "output_type": "stream",
     "text": [
      "Original Description:\n",
      "What's your GPA? Below 1.0 😁\n",
      "\n",
      "Cleaned Description:\n",
      "what gpa\n",
      "\n",
      "Original Descriptions:\n",
      "0    Global results\n",
      "1    Global results\n",
      "2    Global results\n",
      "3    Global results\n",
      "4               Web\n",
      "Name: Segment Description, dtype: object\n",
      "\n",
      "Preprocessed Descriptions:\n",
      "0    global result\n",
      "1    global result\n",
      "2    global result\n",
      "3    global result\n",
      "4              web\n",
      "Name: Segment Description, dtype: object\n"
     ]
    }
   ],
   "source": [
    "#reprocessing an data cleaning\n",
    "\n",
    "\n",
    "\n",
    "import pandas as pd\n",
    "from sklearn.feature_extraction.text import TfidfVectorizer\n",
    "import nltk\n",
    "from nltk.corpus import stopwords\n",
    "from nltk.stem import PorterStemmer\n",
    "import re\n",
    "\n",
    "# Charger le dataset\n",
    "df = pd.read_csv('https://query.data.world/s/kqie3njk5bv6yvtbgd4ss2dkbc6vml?dws=00000')\n",
    "\n",
    "# Sélectionner la colonne \"Segment Description\"\n",
    "descriptions = df['Segment Description']\n",
    "\n",
    "# Prétraitement du texte\n",
    "nltk.download('stopwords')\n",
    "stop_words = set(stopwords.words('english'))\n",
    "ps = PorterStemmer()\n",
    "\n",
    "def preprocess_text(text):\n",
    "    # Keep certain expressions intact\n",
    "    text_preserve_gpa = re.sub(r'below 1.0', 'below_1.0', text, flags=re.IGNORECASE)\n",
    "    \n",
    "    # Remove emojis using a regular expression\n",
    "    text_no_emojis = re.sub(r'[^\\w\\s]', '', text_preserve_gpa.encode('ascii', 'ignore').decode('ascii')).strip()\n",
    "    \n",
    "    # Tokenization and stemming\n",
    "    words = nltk.word_tokenize(text_no_emojis)\n",
    "    words = [ps.stem(word.lower()) for word in words if word.isalpha() and word.lower() not in stop_words]\n",
    "    return ' '.join(words)\n",
    "\n",
    "# Apply preprocessing to each description\n",
    "preprocessed_descriptions = descriptions.apply(preprocess_text)\n",
    "\n",
    "# Example of \"Segment Description\" before and after emoji cleaning\n",
    "example_description = \"What's your GPA? Below 1.0 😁\"\n",
    "\n",
    "# Before cleaning\n",
    "print(\"Original Description:\")\n",
    "print(example_description)\n",
    "\n",
    "# After cleaning\n",
    "cleaned_description = preprocess_text(example_description)\n",
    "print(\"\\nCleaned Description:\")\n",
    "print(cleaned_description)\n",
    "\n",
    "# Print a few preprocessed descriptions for checking\n",
    "print(\"\\nOriginal Descriptions:\")\n",
    "print(descriptions.head())\n",
    "\n",
    "print(\"\\nPreprocessed Descriptions:\")\n",
    "print(preprocessed_descriptions.head())\n",
    "\n",
    "# Vectorisation TF-IDF\n",
    "vectorizer = TfidfVectorizer()\n",
    "X_tfidf = vectorizer.fit_transform(preprocessed_descriptions)\n"
   ]
  },
  {
   "cell_type": "code",
   "execution_count": 251,
   "metadata": {},
   "outputs": [
    {
     "name": "stderr",
     "output_type": "stream",
     "text": [
      "[nltk_data] Downloading package stopwords to\n",
      "[nltk_data]     C:\\Users\\USER\\AppData\\Roaming\\nltk_data...\n",
      "[nltk_data]   Package stopwords is already up-to-date!\n"
     ]
    },
    {
     "name": "stdout",
     "output_type": "stream",
     "text": [
      "Cluster 1 Top Terms: major, colleg, school, ye, vote, high, close, identifi\n",
      "Cluster 2 Top Terms: univers, state, texa, missouri, washington, central, florida, arkansa\n",
      "Cluster 3 Top Terms: gpa, zodiac, greek, geneso, georg, georgia, girl, global\n",
      "Cluster 4 Top Terms: zodiac, sign, jan, dec, sep, aug, jul, jun\n"
     ]
    },
    {
     "data": {
      "image/png": "[encoded data removed]",
      "text/plain": [
       "<Figure size 720x432 with 1 Axes>"
      ]
     },
     "metadata": {},
     "output_type": "display_data"
    }
   ],
   "source": [
    "#CLUSTERING\n",
    "\n",
    "import pandas as pd\n",
    "from sklearn.feature_extraction.text import TfidfVectorizer\n",
    "from sklearn.cluster import KMeans\n",
    "import nltk\n",
    "from nltk.corpus import stopwords\n",
    "from nltk.stem import PorterStemmer\n",
    "import re\n",
    "import matplotlib.pyplot as plt\n",
    "from wordcloud import WordCloud, STOPWORDS  # Add STOPWORDS\n",
    "import matplotlib.pyplot as plt\n",
    "\n",
    "\n",
    "# Load the dataset\n",
    "df = pd.read_csv('https://query.data.world/s/kqie3njk5bv6yvtbgd4ss2dkbc6vml?dws=00000')\n",
    "# Select the \"Segment Description\" column\n",
    "descriptions = df['Segment Description']\n",
    "\n",
    "# Text preprocessing\n",
    "nltk.download('stopwords')\n",
    "stop_words = set(stopwords.words('english'))\n",
    "ps = PorterStemmer()\n",
    "\n",
    "def preprocess_text(text):\n",
    "    # Remove emojis using a regular expression\n",
    "    text_no_emojis = re.sub(r'\\s+', ' ', text.encode('ascii', 'ignore').decode('ascii')).strip()\n",
    "    \n",
    "    # Tokenization and stemming\n",
    "    words = nltk.word_tokenize(text_no_emojis)\n",
    "    words = [ps.stem(word.lower()) for word in words if word.isalpha() and word.lower() not in stop_words]\n",
    "    return ' '.join(words)\n",
    "\n",
    "# Apply preprocessing to each description\n",
    "preprocessed_descriptions = descriptions.apply(preprocess_text)\n",
    "\n",
    "# TF-IDF vectorization\n",
    "vectorizer = TfidfVectorizer()\n",
    "X_tfidf = vectorizer.fit_transform(preprocessed_descriptions)\n",
    "\n",
    "# Apply K-Means clustering\n",
    "num_clusters = 4  \n",
    "kmeans = KMeans(n_clusters=num_clusters, random_state=42)\n",
    "df['Cluster'] = kmeans.fit_predict(X_tfidf)\n",
    "\n",
    "# Print top terms for each cluster\n",
    "terms_per_cluster = []\n",
    "feature_names = vectorizer.get_feature_names()\n",
    "for i in range(num_clusters):\n",
    "    cluster_center = kmeans.cluster_centers_[i]\n",
    "    top_terms_idx = cluster_center.argsort()[-8:][::-1]  \n",
    "    top_terms = [feature_names[idx] for idx in top_terms_idx]\n",
    "    terms_per_cluster.append(top_terms)\n",
    "    print(f\"Cluster {i+1} Top Terms: {', '.join(top_terms)}\")\n",
    "\n",
    "\n",
    "\n",
    "import seaborn as sns\n",
    "\n",
    "# Set the style of seaborn\n",
    "sns.set(style=\"whitegrid\")\n",
    "\n",
    "# Count the number of data points in each cluster\n",
    "cluster_counts = df['Cluster'].value_counts()\n",
    "\n",
    "# Create a bar plot\n",
    "plt.figure(figsize=(10, 6))\n",
    "bar_plot = sns.barplot(x=cluster_counts.index, y=cluster_counts.values, palette=\"viridis\")\n",
    "\n",
    "# Annotate each bar with the first key term\n",
    "for i, cluster_count in enumerate(cluster_counts):\n",
    "    plt.text(i, cluster_count + 0.1, terms_per_cluster[i][1], ha='center', va='bottom')\n",
    "plt.text(2, 0.1, 'month', ha='center', va='bottom')\n",
    "plt.title('Distribution of Data Points in Each Cluster')\n",
    "plt.xlabel('Cluster')\n",
    "plt.ylabel('Number of Data Points')\n",
    "plt.show()\n",
    "\n",
    "\n"
   ]
  },
  {
   "cell_type": "code",
   "execution_count": 252,
   "metadata": {},
   "outputs": [
    {
     "data": {
      "application/vnd.plotly.v1+json": {
       "config": {
        "plotlyServerURL": "https://plot.ly"
       },
       "data": [
        {
         "hole": 0.5,
         "labels": [
          "Facebook",
          "Instagram",
          "Twitter",
          "Snapchat",
          "None"
         ],
         "type": "pie",
         "values": [
          353,
          482,
          37,
          87,
          633
         ]
        }
       ],
       "layout": {
        "template": {
         "data": {
          "bar": [
           {
            "error_x": {
             "color": "#2a3f5f"
            },
            "error_y": {
             "color": "#2a3f5f"
            },
            "marker": {
             "line": {
              "color": "#E5ECF6",
              "width": 0.5
             },
             "pattern": {
              "fillmode": "overlay",
              "size": 10,
              "solidity": 0.2
             }
            },
            "type": "bar"
           }
          ],
          "barpolar": [
           {
            "marker": {
             "line": {
              "color": "#E5ECF6",
              "width": 0.5
             },
             "pattern": {
              "fillmode": "overlay",
              "size": 10,
              "solidity": 0.2
             }
            },
            "type": "barpolar"
           }
          ],
          "carpet": [
           {
            "aaxis": {
             "endlinecolor": "#2a3f5f",
             "gridcolor": "white",
             "linecolor": "white",
             "minorgridcolor": "white",
             "startlinecolor": "#2a3f5f"
            },
            "baxis": {
             "endlinecolor": "#2a3f5f",
             "gridcolor": "white",
             "linecolor": "white",
             "minorgridcolor": "white",
             "startlinecolor": "#2a3f5f"
            },
            "type": "carpet"
           }
          ],
          "choropleth": [
           {
            "colorbar": {
             "outlinewidth": 0,
             "ticks": ""
            },
            "type": "choropleth"
           }
          ],
          "contour": [
           {
            "colorbar": {
             "outlinewidth": 0,
             "ticks": ""
            },
            "colorscale": [
             [
              0,
              "#0d0887"
             ],
             [
              0.1111111111111111,
              "#46039f"
             ],
             [
              0.2222222222222222,
              "#7201a8"
             ],
             [
              0.3333333333333333,
              "#9c179e"
             ],
             [
              0.4444444444444444,
              "#bd3786"
             ],
             [
              0.5555555555555556,
              "#d8576b"
             ],
             [
              0.6666666666666666,
              "#ed7953"
             ],
             [
              0.7777777777777778,
              "#fb9f3a"
             ],
             [
              0.8888888888888888,
              "#fdca26"
             ],
             [
              1,
              "#f0f921"
             ]
            ],
            "type": "contour"
           }
          ],
          "contourcarpet": [
           {
            "colorbar": {
             "outlinewidth": 0,
             "ticks": ""
            },
            "type": "contourcarpet"
           }
          ],
          "heatmap": [
           {
            "colorbar": {
             "outlinewidth": 0,
             "ticks": ""
            },
            "colorscale": [
             [
              0,
              "#0d0887"
             ],
             [
              0.1111111111111111,
              "#46039f"
             ],
             [
              0.2222222222222222,
              "#7201a8"
             ],
             [
              0.3333333333333333,
              "#9c179e"
             ],
             [
              0.4444444444444444,
              "#bd3786"
             ],
             [
              0.5555555555555556,
              "#d8576b"
             ],
             [
              0.6666666666666666,
              "#ed7953"
             ],
             [
              0.7777777777777778,
              "#fb9f3a"
             ],
             [
              0.8888888888888888,
              "#fdca26"
             ],
             [
              1,
              "#f0f921"
             ]
            ],
            "type": "heatmap"
           }
          ],
          "heatmapgl": [
           {
            "colorbar": {
             "outlinewidth": 0,
             "ticks": ""
            },
            "colorscale": [
             [
              0,
              "#0d0887"
             ],
             [
              0.1111111111111111,
              "#46039f"
             ],
             [
              0.2222222222222222,
              "#7201a8"
             ],
             [
              0.3333333333333333,
              "#9c179e"
             ],
             [
              0.4444444444444444,
              "#bd3786"
             ],
             [
              0.5555555555555556,
              "#d8576b"
             ],
             [
              0.6666666666666666,
              "#ed7953"
             ],
             [
              0.7777777777777778,
              "#fb9f3a"
             ],
             [
              0.8888888888888888,
              "#fdca26"
             ],
             [
              1,
              "#f0f921"
             ]
            ],
            "type": "heatmapgl"
           }
          ],
          "histogram": [
           {
            "marker": {
             "pattern": {
              "fillmode": "overlay",
              "size": 10,
              "solidity": 0.2
             }
            },
            "type": "histogram"
           }
          ],
          "histogram2d": [
           {
            "colorbar": {
             "outlinewidth": 0,
             "ticks": ""
            },
            "colorscale": [
             [
              0,
              "#0d0887"
             ],
             [
              0.1111111111111111,
              "#46039f"
             ],
             [
              0.2222222222222222,
              "#7201a8"
             ],
             [
              0.3333333333333333,
              "#9c179e"
             ],
             [
              0.4444444444444444,
              "#bd3786"
             ],
             [
              0.5555555555555556,
              "#d8576b"
             ],
             [
              0.6666666666666666,
              "#ed7953"
             ],
             [
              0.7777777777777778,
              "#fb9f3a"
             ],
             [
              0.8888888888888888,
              "#fdca26"
             ],
             [
              1,
              "#f0f921"
             ]
            ],
            "type": "histogram2d"
           }
          ],
          "histogram2dcontour": [
           {
            "colorbar": {
             "outlinewidth": 0,
             "ticks": ""
            },
            "colorscale": [
             [
              0,
              "#0d0887"
             ],
             [
              0.1111111111111111,
              "#46039f"
             ],
             [
              0.2222222222222222,
              "#7201a8"
             ],
             [
              0.3333333333333333,
              "#9c179e"
             ],
             [
              0.4444444444444444,
              "#bd3786"
             ],
             [
              0.5555555555555556,
              "#d8576b"
             ],
             [
              0.6666666666666666,
              "#ed7953"
             ],
             [
              0.7777777777777778,
              "#fb9f3a"
             ],
             [
              0.8888888888888888,
              "#fdca26"
             ],
             [
              1,
              "#f0f921"
             ]
            ],
            "type": "histogram2dcontour"
           }
          ],
          "mesh3d": [
           {
            "colorbar": {
             "outlinewidth": 0,
             "ticks": ""
            },
            "type": "mesh3d"
           }
          ],
          "parcoords": [
           {
            "line": {
             "colorbar": {
              "outlinewidth": 0,
              "ticks": ""
             }
            },
            "type": "parcoords"
           }
          ],
          "pie": [
           {
            "automargin": true,
            "type": "pie"
           }
          ],
          "scatter": [
           {
            "fillpattern": {
             "fillmode": "overlay",
             "size": 10,
             "solidity": 0.2
            },
            "type": "scatter"
           }
          ],
          "scatter3d": [
           {
            "line": {
             "colorbar": {
              "outlinewidth": 0,
              "ticks": ""
             }
            },
            "marker": {
             "colorbar": {
              "outlinewidth": 0,
              "ticks": ""
             }
            },
            "type": "scatter3d"
           }
          ],
          "scattercarpet": [
           {
            "marker": {
             "colorbar": {
              "outlinewidth": 0,
              "ticks": ""
             }
            },
            "type": "scattercarpet"
           }
          ],
          "scattergeo": [
           {
            "marker": {
             "colorbar": {
              "outlinewidth": 0,
              "ticks": ""
             }
            },
            "type": "scattergeo"
           }
          ],
          "scattergl": [
           {
            "marker": {
             "colorbar": {
              "outlinewidth": 0,
              "ticks": ""
             }
            },
            "type": "scattergl"
           }
          ],
          "scattermapbox": [
           {
            "marker": {
             "colorbar": {
              "outlinewidth": 0,
              "ticks": ""
             }
            },
            "type": "scattermapbox"
           }
          ],
          "scatterpolar": [
           {
            "marker": {
             "colorbar": {
              "outlinewidth": 0,
              "ticks": ""
             }
            },
            "type": "scatterpolar"
           }
          ],
          "scatterpolargl": [
           {
            "marker": {
             "colorbar": {
              "outlinewidth": 0,
              "ticks": ""
             }
            },
            "type": "scatterpolargl"
           }
          ],
          "scatterternary": [
           {
            "marker": {
             "colorbar": {
              "outlinewidth": 0,
              "ticks": ""
             }
            },
            "type": "scatterternary"
           }
          ],
          "surface": [
           {
            "colorbar": {
             "outlinewidth": 0,
             "ticks": ""
            },
            "colorscale": [
             [
              0,
              "#0d0887"
             ],
             [
              0.1111111111111111,
              "#46039f"
             ],
             [
              0.2222222222222222,
              "#7201a8"
             ],
             [
              0.3333333333333333,
              "#9c179e"
             ],
             [
              0.4444444444444444,
              "#bd3786"
             ],
             [
              0.5555555555555556,
              "#d8576b"
             ],
             [
              0.6666666666666666,
              "#ed7953"
             ],
             [
              0.7777777777777778,
              "#fb9f3a"
             ],
             [
              0.8888888888888888,
              "#fdca26"
             ],
             [
              1,
              "#f0f921"
             ]
            ],
            "type": "surface"
           }
          ],
          "table": [
           {
            "cells": {
             "fill": {
              "color": "#EBF0F8"
             },
             "line": {
              "color": "white"
             }
            },
            "header": {
             "fill": {
              "color": "#C8D4E3"
             },
             "line": {
              "color": "white"
             }
            },
            "type": "table"
           }
          ]
         },
         "layout": {
          "annotationdefaults": {
           "arrowcolor": "#2a3f5f",
           "arrowhead": 0,
           "arrowwidth": 1
          },
          "autotypenumbers": "strict",
          "coloraxis": {
           "colorbar": {
            "outlinewidth": 0,
            "ticks": ""
           }
          },
          "colorscale": {
           "diverging": [
            [
             0,
             "#8e0152"
            ],
            [
             0.1,
             "#c51b7d"
            ],
            [
             0.2,
             "#de77ae"
            ],
            [
             0.3,
             "#f1b6da"
            ],
            [
             0.4,
             "#fde0ef"
            ],
            [
             0.5,
             "#f7f7f7"
            ],
            [
             0.6,
             "#e6f5d0"
            ],
            [
             0.7,
             "#b8e186"
            ],
            [
             0.8,
             "#7fbc41"
            ],
            [
             0.9,
             "#4d9221"
            ],
            [
             1,
             "#276419"
            ]
           ],
           "sequential": [
            [
             0,
             "#0d0887"
            ],
            [
             0.1111111111111111,
             "#46039f"
            ],
            [
             0.2222222222222222,
             "#7201a8"
            ],
            [
             0.3333333333333333,
             "#9c179e"
            ],
            [
             0.4444444444444444,
             "#bd3786"
            ],
            [
             0.5555555555555556,
             "#d8576b"
            ],
            [
             0.6666666666666666,
             "#ed7953"
            ],
            [
             0.7777777777777778,
             "#fb9f3a"
            ],
            [
             0.8888888888888888,
             "#fdca26"
            ],
            [
             1,
             "#f0f921"
            ]
           ],
           "sequentialminus": [
            [
             0,
             "#0d0887"
            ],
            [
             0.1111111111111111,
             "#46039f"
            ],
            [
             0.2222222222222222,
             "#7201a8"
            ],
            [
             0.3333333333333333,
             "#9c179e"
            ],
            [
             0.4444444444444444,
             "#bd3786"
            ],
            [
             0.5555555555555556,
             "#d8576b"
            ],
            [
             0.6666666666666666,
             "#ed7953"
            ],
            [
             0.7777777777777778,
             "#fb9f3a"
            ],
            [
             0.8888888888888888,
             "#fdca26"
            ],
            [
             1,
             "#f0f921"
            ]
           ]
          },
          "colorway": [
           "#636efa",
           "#EF553B",
           "#00cc96",
           "#ab63fa",
           "#FFA15A",
           "#19d3f3",
           "#FF6692",
           "#B6E880",
           "#FF97FF",
           "#FECB52"
          ],
          "font": {
           "color": "#2a3f5f"
          },
          "geo": {
           "bgcolor": "white",
           "lakecolor": "white",
           "landcolor": "#E5ECF6",
           "showlakes": true,
           "showland": true,
           "subunitcolor": "white"
          },
          "hoverlabel": {
           "align": "left"
          },
          "hovermode": "closest",
          "mapbox": {
           "style": "light"
          },
          "paper_bgcolor": "white",
          "plot_bgcolor": "#E5ECF6",
          "polar": {
           "angularaxis": {
            "gridcolor": "white",
            "linecolor": "white",
            "ticks": ""
           },
           "bgcolor": "#E5ECF6",
           "radialaxis": {
            "gridcolor": "white",
            "linecolor": "white",
            "ticks": ""
           }
          },
          "scene": {
           "xaxis": {
            "backgroundcolor": "#E5ECF6",
            "gridcolor": "white",
            "gridwidth": 2,
            "linecolor": "white",
            "showbackground": true,
            "ticks": "",
            "zerolinecolor": "white"
           },
           "yaxis": {
            "backgroundcolor": "#E5ECF6",
            "gridcolor": "white",
            "gridwidth": 2,
            "linecolor": "white",
            "showbackground": true,
            "ticks": "",
            "zerolinecolor": "white"
           },
           "zaxis": {
            "backgroundcolor": "#E5ECF6",
            "gridcolor": "white",
            "gridwidth": 2,
            "linecolor": "white",
            "showbackground": true,
            "ticks": "",
            "zerolinecolor": "white"
           }
          },
          "shapedefaults": {
           "line": {
            "color": "#2a3f5f"
           }
          },
          "ternary": {
           "aaxis": {
            "gridcolor": "white",
            "linecolor": "white",
            "ticks": ""
           },
           "baxis": {
            "gridcolor": "white",
            "linecolor": "white",
            "ticks": ""
           },
           "bgcolor": "#E5ECF6",
           "caxis": {
            "gridcolor": "white",
            "linecolor": "white",
            "ticks": ""
           }
          },
          "title": {
           "x": 0.05
          },
          "xaxis": {
           "automargin": true,
           "gridcolor": "white",
           "linecolor": "white",
           "ticks": "",
           "title": {
            "standoff": 15
           },
           "zerolinecolor": "white",
           "zerolinewidth": 2
          },
          "yaxis": {
           "automargin": true,
           "gridcolor": "white",
           "linecolor": "white",
           "ticks": "",
           "title": {
            "standoff": 15
           },
           "zerolinecolor": "white",
           "zerolinewidth": 2
          }
         }
        },
        "title": {
         "text": "Most Popular Social Media Platform in University"
        }
       }
      }
     },
     "metadata": {},
     "output_type": "display_data"
    }
   ],
   "source": [
    "import pandas as pd\n",
    "import numpy as np\n",
    "import matplotlib.pyplot as plt\n",
    "import seaborn as sns\n",
    "import plotly.graph_objects as go\n",
    "import os\n",
    "\n",
    "# Load the dataset\n",
    "df = pd.read_csv('https://query.data.world/s/kqie3njk5bv6yvtbgd4ss2dkbc6vml?dws=00000')\n",
    "\n",
    "df.rename(columns = {   'Question': 'question', 'Segment Type': 'segment_type'\n",
    "                        ,'Segment Description': 'segment_description', 'Answer': 'answer',\n",
    "                        'Count': 'count', 'Percentage': 'percent'}, inplace = True)\n",
    "\n",
    "# total Facebook users in University\n",
    "Uni_face = sum(df[(df.segment_type == 'University') & (df.answer == 'Facebook')]['count'])\n",
    "\n",
    "# total Instagram users in University\n",
    "Uni_ins = sum(df[(df.segment_type == 'University') & (df.answer == 'Instagram')]['count'])\n",
    "\n",
    "# total Snapchat users in University\n",
    "Uni_snap = sum(df[(df.segment_type == 'University') & (df.answer == 'Snapchat')]['count'])\n",
    "\n",
    "# total Twitter users in University\n",
    "Uni_twi = sum(df[(df.segment_type == 'University') & (df.answer == 'Twitter')]['count'])\n",
    "\n",
    "# total None users in University\n",
    "Uni_non = sum(df[(df.segment_type == 'University') & (df.answer == 'None')]['count'])\n",
    "\n",
    "data = [Uni_face, Uni_ins, Uni_snap, Uni_twi, Uni_non]\n",
    "labels = ['Facebook', 'Instagram', 'Twitter', 'Snapchat', 'None']\n",
    "\n",
    "colors = sns.color_palette(\"hls\", 10)\n",
    "\n",
    "fig = go.Figure(data=[go.Pie(labels=labels, values=data, hole=.5)])\n",
    "fig.update_layout(title_text='Most Popular Social Media Platform in University')\n",
    "fig.show()"
   ]
  },
  {
   "cell_type": "markdown",
   "metadata": {},
   "source": [
    "Now let's use another dataset about instagram to understand what's make poeple being more influenced"
   ]
  },
  {
   "cell_type": "code",
   "execution_count": 253,
   "metadata": {},
   "outputs": [
    {
     "data": {
      "text/html": [
       "<div>\n",
       "<style scoped>\n",
       "    .dataframe tbody tr th:only-of-type {\n",
       "        vertical-align: middle;\n",
       "    }\n",
       "\n",
       "    .dataframe tbody tr th {\n",
       "        vertical-align: top;\n",
       "    }\n",
       "\n",
       "    .dataframe thead th {\n",
       "        text-align: right;\n",
       "    }\n",
       "</style>\n",
       "<table border=\"1\" class=\"dataframe\">\n",
       "  <thead>\n",
       "    <tr style=\"text-align: right;\">\n",
       "      <th></th>\n",
       "      <th>instagram name</th>\n",
       "      <th>Category</th>\n",
       "      <th>category_2</th>\n",
       "      <th>Followers</th>\n",
       "      <th>Audience Country</th>\n",
       "      <th>Engagement avg\\r\\n</th>\n",
       "      <th>newFollowers</th>\n",
       "      <th>newEngagement avg\\r\\n</th>\n",
       "    </tr>\n",
       "  </thead>\n",
       "  <tbody>\n",
       "    <tr>\n",
       "      <th>0</th>\n",
       "      <td>433</td>\n",
       "      <td>Sports with a ball</td>\n",
       "      <td>NaN</td>\n",
       "      <td>48.5M</td>\n",
       "      <td>Spain</td>\n",
       "      <td>637K</td>\n",
       "      <td>48500000.0</td>\n",
       "      <td>637000.0</td>\n",
       "    </tr>\n",
       "    <tr>\n",
       "      <th>1</th>\n",
       "      <td>TAEYANG</td>\n",
       "      <td>Music</td>\n",
       "      <td>NaN</td>\n",
       "      <td>12.7M</td>\n",
       "      <td>Indonesia</td>\n",
       "      <td>542.3K</td>\n",
       "      <td>12700000.0</td>\n",
       "      <td>542300.0</td>\n",
       "    </tr>\n",
       "  </tbody>\n",
       "</table>\n",
       "</div>"
      ],
      "text/plain": [
       "  instagram name            Category category_2 Followers Audience Country  \\\n",
       "0            433  Sports with a ball        NaN     48.5M            Spain   \n",
       "1        TAEYANG               Music        NaN     12.7M        Indonesia   \n",
       "\n",
       "  Engagement avg\\r\\n  newFollowers  newEngagement avg\\r\\n  \n",
       "0               637K    48500000.0               637000.0  \n",
       "1             542.3K    12700000.0               542300.0  "
      ]
     },
     "execution_count": 253,
     "metadata": {},
     "output_type": "execute_result"
    }
   ],
   "source": [
    "import os\n",
    "import numpy as np # linear algebra\n",
    "import pandas as pd\n",
    "import matplotlib.pyplot as plt\n",
    "import seaborn as sns\n",
    "import re\n",
    "def convert(x):\n",
    "    return re.findall('\\d+\\.?\\d*',x)\n",
    "def change(df,list1):\n",
    "    for i in list1:\n",
    "        df['new'+i]=df[i].apply(convert)\n",
    "        df['new'+i]=df['new'+i].apply(lambda x: \"\".join(x))\n",
    "        df['new'+i]=pd.to_numeric(df['new'+i])\n",
    "        df['new'+i]=np.where(['M' in j for j in df[i]],df['new'+i]*1000000,\n",
    "                             np.where(['K' in j1 for j1 in df[i]],df['new'+i]*1000,df['new'+i]))\n",
    "    return df\n",
    "\n",
    "\n",
    "df_i=pd.read_csv('C:/Users/USER/Desktop/seconddataset.csv')\n",
    "df_i.rename({'category_1':'Category','Audience country(mostly)':'Audience Country',},axis=1,inplace=True)\n",
    "df_i.drop(labels=['Influencer insta name','Authentic engagement\\r\\n',],axis=1,inplace=True)\n",
    "\n",
    "li=['Followers','Engagement avg\\r\\n']\n",
    "change(df_i,li)\n",
    "df_i.head(2)\n",
    "# instagram dataset\n",
    "\n"
   ]
  },
  {
   "cell_type": "code",
   "execution_count": 254,
   "metadata": {},
   "outputs": [
    {
     "data": {
      "text/plain": [
       "<AxesSubplot:title={'center':'Top 15 most followed celebrity on instagram'}, xlabel='newFollowers', ylabel='instagram name'>"
      ]
     },
     "execution_count": 254,
     "metadata": {},
     "output_type": "execute_result"
    },
    {
     "name": "stderr",
     "output_type": "stream",
     "text": [
      "c:\\Users\\USER\\AppData\\Local\\Programs\\Python\\Python36\\lib\\site-packages\\matplotlib\\backends\\backend_agg.py:238: RuntimeWarning:\n",
      "\n",
      "Glyph 129293 missing from current font.\n",
      "\n",
      "c:\\Users\\USER\\AppData\\Local\\Programs\\Python\\Python36\\lib\\site-packages\\matplotlib\\backends\\backend_agg.py:201: RuntimeWarning:\n",
      "\n",
      "Glyph 129293 missing from current font.\n",
      "\n"
     ]
    },
    {
     "data": {
      "image/png": "[encoded data removed]",
      "text/plain": [
       "<Figure size 432x288 with 1 Axes>"
      ]
     },
     "metadata": {},
     "output_type": "display_data"
    }
   ],
   "source": [
    "df_i.sort_values(by='newFollowers',ascending=False,ignore_index=True).iloc[0:15,[0,1,3,-1]]\n",
    "plt.title('Top 15 most followed celebrity on instagram')\n",
    "plt.xlabel('Followers in Million')\n",
    "sns.barplot(y='instagram name',x='newFollowers',data=df_i.sort_values(by='newFollowers',ascending=False).head(15))"
   ]
  },
  {
   "cell_type": "code",
   "execution_count": 255,
   "metadata": {},
   "outputs": [
    {
     "data": {
      "text/plain": [
       "<AxesSubplot:title={'center':'Top 15 most followed celebrity on instagram'}, xlabel='newEngagement avg\\r\\n', ylabel='instagram name'>"
      ]
     },
     "execution_count": 255,
     "metadata": {},
     "output_type": "execute_result"
    },
    {
     "name": "stderr",
     "output_type": "stream",
     "text": [
      "c:\\Users\\USER\\AppData\\Local\\Programs\\Python\\Python36\\lib\\site-packages\\matplotlib\\backends\\backend_agg.py:238: RuntimeWarning:\n",
      "\n",
      "Glyph 13 missing from current font.\n",
      "\n",
      "c:\\Users\\USER\\AppData\\Local\\Programs\\Python\\Python36\\lib\\site-packages\\matplotlib\\backends\\backend_agg.py:238: RuntimeWarning:\n",
      "\n",
      "Glyph 129293 missing from current font.\n",
      "\n",
      "c:\\Users\\USER\\AppData\\Local\\Programs\\Python\\Python36\\lib\\site-packages\\matplotlib\\backends\\backend_agg.py:238: RuntimeWarning:\n",
      "\n",
      "Glyph 48124 missing from current font.\n",
      "\n",
      "c:\\Users\\USER\\AppData\\Local\\Programs\\Python\\Python36\\lib\\site-packages\\matplotlib\\backends\\backend_agg.py:238: RuntimeWarning:\n",
      "\n",
      "Glyph 50980 missing from current font.\n",
      "\n",
      "c:\\Users\\USER\\AppData\\Local\\Programs\\Python\\Python36\\lib\\site-packages\\matplotlib\\backends\\backend_agg.py:238: RuntimeWarning:\n",
      "\n",
      "Glyph 44592 missing from current font.\n",
      "\n",
      "c:\\Users\\USER\\AppData\\Local\\Programs\\Python\\Python36\\lib\\site-packages\\matplotlib\\backends\\backend_agg.py:201: RuntimeWarning:\n",
      "\n",
      "Glyph 13 missing from current font.\n",
      "\n",
      "c:\\Users\\USER\\AppData\\Local\\Programs\\Python\\Python36\\lib\\site-packages\\matplotlib\\backends\\backend_agg.py:201: RuntimeWarning:\n",
      "\n",
      "Glyph 129293 missing from current font.\n",
      "\n",
      "c:\\Users\\USER\\AppData\\Local\\Programs\\Python\\Python36\\lib\\site-packages\\matplotlib\\backends\\backend_agg.py:201: RuntimeWarning:\n",
      "\n",
      "Glyph 48124 missing from current font.\n",
      "\n",
      "c:\\Users\\USER\\AppData\\Local\\Programs\\Python\\Python36\\lib\\site-packages\\matplotlib\\backends\\backend_agg.py:201: RuntimeWarning:\n",
      "\n",
      "Glyph 50980 missing from current font.\n",
      "\n",
      "c:\\Users\\USER\\AppData\\Local\\Programs\\Python\\Python36\\lib\\site-packages\\matplotlib\\backends\\backend_agg.py:201: RuntimeWarning:\n",
      "\n",
      "Glyph 44592 missing from current font.\n",
      "\n"
     ]
    },
    {
     "data": {
      "image/png": "[encoded data removed]",
      "text/plain": [
       "<Figure size 432x288 with 1 Axes>"
      ]
     },
     "metadata": {},
     "output_type": "display_data"
    }
   ],
   "source": [
    "df_i.sort_values(by='newEngagement avg\\r\\n',ascending=False,ignore_index=True).iloc[0:15,[0,1,3,-1]]\n",
    "plt.title('Top 15 most followed celebrity on instagram')\n",
    "plt.xlabel('Followers in Million')\n",
    "sns.barplot(y='instagram name',x='newEngagement avg\\r\\n',data=df_i.sort_values(by='newEngagement avg\\r\\n',ascending=False).head(15))"
   ]
  },
  {
   "cell_type": "code",
   "execution_count": 256,
   "metadata": {},
   "outputs": [
    {
     "data": {
      "image/png": "[encoded data removed]",
      "text/plain": [
       "<Figure size 576x432 with 1 Axes>"
      ]
     },
     "metadata": {},
     "output_type": "display_data"
    }
   ],
   "source": [
    "pallete=['red','green','yellow','pink','black','blue','orange']\n",
    "def plot(df):\n",
    "    plt.figure(figsize=(8,6))\n",
    "    plt.xlabel('number of times category occured')\n",
    "    plt.ylabel('Category')\n",
    "    df['Category'].value_counts().sort_values(ascending=True).plot.barh(color=pallete)\n",
    "plot(df_i)"
   ]
  },
  {
   "cell_type": "code",
   "execution_count": 257,
   "metadata": {},
   "outputs": [
    {
     "data": {
      "text/plain": [
       "<AxesSubplot:>"
      ]
     },
     "execution_count": 257,
     "metadata": {},
     "output_type": "execute_result"
    },
    {
     "data": {
      "image/png": "[encoded data removed]",
      "text/plain": [
       "<Figure size 432x288 with 1 Axes>"
      ]
     },
     "metadata": {},
     "output_type": "display_data"
    }
   ],
   "source": [
    "def demand(data,category):\n",
    "    return data[data['Category']==category]['Audience Country'].value_counts().sort_values(ascending=True).plot.barh(color=pallete)\n",
    "demand(df_i,'Sports with a ball')"
   ]
  }
 ],
 "metadata": {
  "kernelspec": {
   "display_name": "Python 3",
   "language": "python",
   "name": "python3"
  },
  "language_info": {
   "codemirror_mode": {
    "name": "ipython",
    "version": 3
   },
   "file_extension": ".py",
   "mimetype": "text/x-python",
   "name": "python",
   "nbconvert_exporter": "python",
   "pygments_lexer": "ipython3",
   "version": "3.6.8"
  }
 },
 "nbformat": 4,
 "nbformat_minor": 2
}
